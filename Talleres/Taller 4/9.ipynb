{
 "cells": [
  {
   "cell_type": "markdown",
   "metadata": {},
   "source": [
    "# Librerías"
   ]
  },
  {
   "cell_type": "code",
   "execution_count": 1,
   "metadata": {},
   "outputs": [],
   "source": [
    "import numpy as np\n",
    "import sympy as sp"
   ]
  },
  {
   "cell_type": "markdown",
   "metadata": {},
   "source": [
    "# Error de Simpson 3/8\n",
    "- - -\n",
    "Se conoce que el error asociado a este método se puede expresar cómo: E=$\\frac{f^{(4)}\\epsilon}{4!}\\int_a^b(x−x_0)(x−x_1)(x−x_2)(x−x_3)dx=\\frac{f^{(4)}\\epsilon}{4!}\\int_0^{3h}(x)(x−h)(x−2h)(x−3h)dx$. Luego, la integral podemos resolverla, tq:"
   ]
  },
  {
   "cell_type": "code",
   "execution_count": 2,
   "metadata": {},
   "outputs": [
    {
     "data": {
      "text/latex": [
       "$\\displaystyle - 3 h^{3} x^{2} + \\frac{11 h^{2} x^{3}}{3} - \\frac{3 h x^{4}}{2} + \\frac{x^{5}}{5}$"
      ],
      "text/plain": [
       "-3*h**3*x**2 + 11*h**2*x**3/3 - 3*h*x**4/2 + x**5/5"
      ]
     },
     "execution_count": 2,
     "metadata": {},
     "output_type": "execute_result"
    }
   ],
   "source": [
    "x = sp.Symbol('x')\n",
    "h = sp.Symbol('h')\n",
    "\n",
    "int = sp.expand((x)*(x-h)*(x-2*h)*(x-3*h))\n",
    "int = sp.integrate(int,x)\n",
    "int"
   ]
  },
  {
   "cell_type": "markdown",
   "metadata": {},
   "source": [
    "Nótese que todos los términos son múltiplos de x, luego evaluado en 0 es igual a 0. Por consiguiente:"
   ]
  },
  {
   "cell_type": "code",
   "execution_count": 3,
   "metadata": {},
   "outputs": [
    {
     "data": {
      "text/latex": [
       "$\\displaystyle - \\frac{9 h^{5}}{10}$"
      ],
      "text/plain": [
       "-9*h**5/10"
      ]
     },
     "execution_count": 3,
     "metadata": {},
     "output_type": "execute_result"
    }
   ],
   "source": [
    "int = int.subs(x,(3*h))\n",
    "int"
   ]
  },
  {
   "cell_type": "markdown",
   "metadata": {},
   "source": [
    "Reemplazando en nuestra ecuación original, se tiene que $E=\\frac{f^{(4)}\\epsilon}{4!}\\cdot\\frac{9h^5}{10}=\\frac{f^{(4)}\\epsilon}{\\cancel{24}}\\cdot\\frac{\\cancel{9}h^5}{10}\\longrightarrow E=\\frac{3h^5}{80}f^{(4)}\\epsilon$."
   ]
  }
 ],
 "metadata": {
  "kernelspec": {
   "display_name": "Python 3.9.7 64-bit",
   "language": "python",
   "name": "python3"
  },
  "language_info": {
   "codemirror_mode": {
    "name": "ipython",
    "version": 3
   },
   "file_extension": ".py",
   "mimetype": "text/x-python",
   "name": "python",
   "nbconvert_exporter": "python",
   "pygments_lexer": "ipython3",
   "version": "3.9.7"
  },
  "orig_nbformat": 4,
  "vscode": {
   "interpreter": {
    "hash": "11938c6bc6919ae2720b4d5011047913343b08a43b18698fd82dedb0d4417594"
   }
  }
 },
 "nbformat": 4,
 "nbformat_minor": 2
}
