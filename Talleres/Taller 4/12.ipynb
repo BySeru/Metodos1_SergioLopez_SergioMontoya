{
 "cells": [
  {
   "cell_type": "markdown",
   "metadata": {},
   "source": [
    "# Librerías"
   ]
  },
  {
   "cell_type": "code",
   "execution_count": 1,
   "metadata": {},
   "outputs": [],
   "source": [
    "import numpy as np\n",
    "import sympy as sp\n",
    "import legendre as lg\n",
    "import matplotlib.pyplot as plt"
   ]
  },
  {
   "cell_type": "markdown",
   "metadata": {},
   "source": [
    "# Def. Variables"
   ]
  },
  {
   "cell_type": "code",
   "execution_count": 2,
   "metadata": {},
   "outputs": [],
   "source": [
    "a = 1\n",
    "b = 2\n",
    "xi = np.linspace(-1,1,100)\n",
    "\n",
    "def f(x):\n",
    "    return x**-2"
   ]
  },
  {
   "cell_type": "code",
   "execution_count": 3,
   "metadata": {},
   "outputs": [],
   "source": [
    "n2 = 2\n",
    "n3 = 3"
   ]
  },
  {
   "cell_type": "markdown",
   "metadata": {},
   "source": [
    "# Legendre"
   ]
  },
  {
   "cell_type": "code",
   "execution_count": 4,
   "metadata": {},
   "outputs": [],
   "source": [
    "legendre2, d_legendre2 = lg.Legendre(n2)\n",
    "legendre3, d_legendre3 = lg.Legendre(n3)"
   ]
  },
  {
   "cell_type": "markdown",
   "metadata": {},
   "source": [
    "### Raíces"
   ]
  },
  {
   "cell_type": "code",
   "execution_count": 5,
   "metadata": {},
   "outputs": [],
   "source": [
    "Roots_2 = lg.GetRootsPoly(n2,xi,legendre2,d_legendre2,f)\n",
    "Roots_3 = lg.GetRootsPoly(n3,xi,legendre3,d_legendre3,f)"
   ]
  },
  {
   "cell_type": "markdown",
   "metadata": {},
   "source": [
    "### Pesos"
   ]
  },
  {
   "cell_type": "code",
   "execution_count": 6,
   "metadata": {},
   "outputs": [],
   "source": [
    "weights_2 = lg.GetWeights(Roots_2,d_legendre2,n2)\n",
    "weights_3 = lg.GetWeights(Roots_3,d_legendre3,n3)"
   ]
  },
  {
   "cell_type": "markdown",
   "metadata": {},
   "source": [
    "# Integrales"
   ]
  },
  {
   "cell_type": "code",
   "execution_count": 7,
   "metadata": {},
   "outputs": [
    {
     "name": "stdout",
     "output_type": "stream",
     "text": [
      "Siendo n=2:  0.497041\n"
     ]
    }
   ],
   "source": [
    "x = 0.5*((b-a)*Roots_2+a+b)\n",
    "int2 = 0.5*(b-a)*np.sum(weights_2*f(x))\n",
    "print(\"Siendo n=2: \", round(int2,6))"
   ]
  },
  {
   "cell_type": "code",
   "execution_count": 8,
   "metadata": {},
   "outputs": [
    {
     "name": "stdout",
     "output_type": "stream",
     "text": [
      "Siendo n=3:  0.499874\n"
     ]
    }
   ],
   "source": [
    "x = 0.5*((b-a)*Roots_3+a+b)\n",
    "int3 = 0.5*(b-a)*np.sum(weights_3*f(x))\n",
    "print(\"Siendo n=3: \", round(int3,6))"
   ]
  }
 ],
 "metadata": {
  "kernelspec": {
   "display_name": "Python 3.9.7 64-bit",
   "language": "python",
   "name": "python3"
  },
  "language_info": {
   "codemirror_mode": {
    "name": "ipython",
    "version": 3
   },
   "file_extension": ".py",
   "mimetype": "text/x-python",
   "name": "python",
   "nbconvert_exporter": "python",
   "pygments_lexer": "ipython3",
   "version": "3.9.7"
  },
  "orig_nbformat": 4,
  "vscode": {
   "interpreter": {
    "hash": "11938c6bc6919ae2720b4d5011047913343b08a43b18698fd82dedb0d4417594"
   }
  }
 },
 "nbformat": 4,
 "nbformat_minor": 2
}
