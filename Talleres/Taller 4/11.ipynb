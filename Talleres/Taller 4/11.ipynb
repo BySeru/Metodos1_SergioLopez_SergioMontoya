{
 "cells": [
  {
   "cell_type": "code",
   "execution_count": 16,
   "metadata": {},
   "outputs": [],
   "source": [
    "import sympy as sp\n",
    "import numpy as np"
   ]
  },
  {
   "cell_type": "code",
   "execution_count": 20,
   "metadata": {},
   "outputs": [
    {
     "data": {
      "text/latex": [
       "$\\displaystyle \\sqrt{1 + e^{- x^{2}}}$"
      ],
      "text/plain": [
       "sqrt(1 + exp(-x**2))"
      ]
     },
     "execution_count": 20,
     "metadata": {},
     "output_type": "execute_result"
    }
   ],
   "source": [
    "def f(x):\n",
    "    return sp.sqrt(1+sp.exp((-x**2)))\n",
    "x = sp.Symbol('x')\n",
    "f(x)"
   ]
  },
  {
   "cell_type": "markdown",
   "metadata": {},
   "source": [
    "Recuerde que $\\int_a^b f(x)dx = \\frac{3h}{2}\\left(f(a)+f\\left(\\frac{2a-b}{3}\\right)+f\\left(\\frac{a-2b}{3}\\right)+f(b)\\right)$"
   ]
  },
  {
   "cell_type": "code",
   "execution_count": 30,
   "metadata": {},
   "outputs": [
    {
     "data": {
      "text/latex": [
       "$\\displaystyle 2.64957932990768$"
      ],
      "text/plain": [
       "2.64957932990768"
      ]
     },
     "execution_count": 30,
     "metadata": {},
     "output_type": "execute_result"
    }
   ],
   "source": [
    "x_n = np.linspace(-1,1,4)\n",
    "p = 0\n",
    "for i in range(x_n.size):\n",
    "    if i in [1,2]:\n",
    "        p += 3*f(x_n[i])\n",
    "    else:\n",
    "        p += f(x_n[i])\n",
    "result = 2/8 * p\n",
    "result"
   ]
  },
  {
   "cell_type": "code",
   "execution_count": null,
   "metadata": {},
   "outputs": [],
   "source": []
  }
 ],
 "metadata": {
  "kernelspec": {
   "display_name": "Python 3",
   "language": "python",
   "name": "python3"
  },
  "language_info": {
   "codemirror_mode": {
    "name": "ipython",
    "version": 3
   },
   "file_extension": ".py",
   "mimetype": "text/x-python",
   "name": "python",
   "nbconvert_exporter": "python",
   "pygments_lexer": "ipython3",
   "version": "3.7.3"
  }
 },
 "nbformat": 4,
 "nbformat_minor": 2
}
