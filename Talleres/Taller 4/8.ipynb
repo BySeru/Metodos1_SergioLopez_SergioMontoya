{
 "cells": [
  {
   "cell_type": "markdown",
   "metadata": {},
   "source": [
    "## Librerías"
   ]
  },
  {
   "cell_type": "code",
   "execution_count": 1,
   "metadata": {},
   "outputs": [],
   "source": [
    "import matplotlib.pyplot as plt\n",
    "import numpy as np\n",
    "import sympy as sp"
   ]
  },
  {
   "cell_type": "code",
   "execution_count": 2,
   "metadata": {},
   "outputs": [],
   "source": [
    "f= sp.Function(\"f\")\n",
    "a = sp.Symbol('a')\n",
    "b = sp.Symbol('b')\n",
    "x = sp.Symbol('x')\n",
    "h = (b-a)/3"
   ]
  },
  {
   "cell_type": "markdown",
   "metadata": {},
   "source": [
    "## Punto B"
   ]
  },
  {
   "cell_type": "markdown",
   "metadata": {},
   "source": [
    "Sea $\\{0,h,2h,3h\\}$ el conjunto de interpolación con $h = \\frac{(b-a)}{3}$ por lo tanto"
   ]
  },
  {
   "cell_type": "code",
   "execution_count": 3,
   "metadata": {},
   "outputs": [
    {
     "name": "stdout",
     "output_type": "stream",
     "text": [
      "2*a/3 + b/3\n",
      "a/3 + 2*b/3\n"
     ]
    }
   ],
   "source": [
    "x_n = np.array([a,h+a,a+2*h,a+3*h])\n",
    "x_2 = sp.expand(x_n[1])\n",
    "x_3 = sp.expand(x_n[2])\n",
    "print(x_2)\n",
    "#print(x_2 == 2*a/3 + b/3)\n",
    "#print(a-a/3 == 2*a/3)\n",
    "print(x_3)"
   ]
  },
  {
   "cell_type": "markdown",
   "metadata": {},
   "source": [
    "## Punto A"
   ]
  },
  {
   "cell_type": "code",
   "execution_count": 4,
   "metadata": {},
   "outputs": [],
   "source": [
    "h = sp.Symbol('h')\n",
    "x_n = np.array([0,h,2*h,3*h])"
   ]
  },
  {
   "cell_type": "code",
   "execution_count": 5,
   "metadata": {},
   "outputs": [],
   "source": [
    "def cardinal(x,h,o,i):\n",
    "\n",
    "    prod= 1\n",
    "    for j in range(len(o)):\n",
    "        if j != i:\n",
    "            prod *= (x-x_n[j])/(x_n[i]-x_n[j])\n",
    "\n",
    "    return sp.simplify(prod)"
   ]
  },
  {
   "cell_type": "code",
   "execution_count": 6,
   "metadata": {},
   "outputs": [
    {
     "data": {
      "text/latex": [
       "$\\displaystyle \\frac{x \\left(2 h - x\\right) \\left(3 h - x\\right)}{2 h^{3}}$"
      ],
      "text/plain": [
       "x*(2*h - x)*(3*h - x)/(2*h**3)"
      ]
     },
     "execution_count": 6,
     "metadata": {},
     "output_type": "execute_result"
    }
   ],
   "source": [
    "L_i = cardinal(x,h,x_n,1)\n",
    "L_i"
   ]
  },
  {
   "cell_type": "code",
   "execution_count": 7,
   "metadata": {},
   "outputs": [
    {
     "data": {
      "text/latex": [
       "$\\displaystyle \\frac{3 h \\left(f{\\left(0 \\right)} + 3 f{\\left(h \\right)} + 3 f{\\left(2 h \\right)} + f{\\left(3 h \\right)}\\right)}{8}$"
      ],
      "text/plain": [
       "3*h*(f(0) + 3*f(h) + 3*f(2*h) + f(3*h))/8"
      ]
     },
     "execution_count": 7,
     "metadata": {},
     "output_type": "execute_result"
    }
   ],
   "source": [
    "poly= 0\n",
    "int_= sp.integrate(L_i,(x,a,b))\n",
    "sp.factor(sp.simplify(int_))\n",
    "\n",
    "for i in range(len(x_n)):\n",
    "    L_n = cardinal(x,h,x_n,i)\n",
    "    int = sp.integrate(L_n,(x,x_n[0],x_n[-1]))\n",
    "    int = sp.factor(sp.simplify(int))\n",
    "    poly += f(x_n[i])*int\n",
    "    \n",
    "sp.factor(poly)"
   ]
  },
  {
   "cell_type": "markdown",
   "metadata": {},
   "source": [
    "Usando el metodo de Simpson Compuesto pordemos decir que $\\int_a^b f(x)dx =\\frac{3h}{8}\\left(f(a)+3f\\left(\\frac{2a-b}{3}\\right)+3f\\left(\\frac{a-2b}{3}\\right)+f(b)\\right)$ ."
   ]
  }
 ],
 "metadata": {
  "kernelspec": {
   "display_name": "Python 3.9.7 64-bit",
   "language": "python",
   "name": "python3"
  },
  "language_info": {
   "codemirror_mode": {
    "name": "ipython",
    "version": 3
   },
   "file_extension": ".py",
   "mimetype": "text/x-python",
   "name": "python",
   "nbconvert_exporter": "python",
   "pygments_lexer": "ipython3",
   "version": "3.9.7"
  },
  "vscode": {
   "interpreter": {
    "hash": "11938c6bc6919ae2720b4d5011047913343b08a43b18698fd82dedb0d4417594"
   }
  }
 },
 "nbformat": 4,
 "nbformat_minor": 2
}
