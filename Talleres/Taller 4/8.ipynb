{
 "cells": [
  {
   "cell_type": "markdown",
   "metadata": {},
   "source": [
    "## Librerías"
   ]
  },
  {
   "cell_type": "code",
   "execution_count": 1,
   "metadata": {},
   "outputs": [],
   "source": [
    "import matplotlib.pyplot as plt\n",
    "import numpy as np\n",
    "import sympy as sp"
   ]
  },
  {
   "cell_type": "code",
   "execution_count": 2,
   "metadata": {},
   "outputs": [],
   "source": [
    "a = sp.Symbol('a')\n",
    "b = sp.Symbol('b')\n",
    "x = sp.Symbol('x')\n",
    "h = (b-a)/3"
   ]
  },
  {
   "cell_type": "markdown",
   "metadata": {},
   "source": [
    "## Punto B"
   ]
  },
  {
   "cell_type": "markdown",
   "metadata": {},
   "source": [
    "Sea $\\{0,h,2h,3h\\}$ el conjunto de interpolación con $h = \\frac{(b-a)}{3}$ por lo tanto"
   ]
  },
  {
   "cell_type": "code",
   "execution_count": 3,
   "metadata": {},
   "outputs": [
    {
     "name": "stdout",
     "output_type": "stream",
     "text": [
      "2*a/3 + b/3\n",
      "a/3 + 2*b/3\n"
     ]
    }
   ],
   "source": [
    "x_n = np.array([a,h+a,a+2*h,a+3*h])\n",
    "x_2 = sp.expand(x_n[1])\n",
    "x_3 = sp.expand(x_n[2])\n",
    "print(x_2)\n",
    "#print(x_2 == 2*a/3 + b/3)\n",
    "#print(a-a/3 == 2*a/3)\n",
    "print(x_3)"
   ]
  },
  {
   "cell_type": "markdown",
   "metadata": {},
   "source": [
    "## Punto A"
   ]
  },
  {
   "cell_type": "code",
   "execution_count": 4,
   "metadata": {},
   "outputs": [
    {
     "data": {
      "text/latex": [
       "$\\displaystyle \\frac{a \\left(- b + x\\right) \\left(- \\frac{a}{3} - \\frac{2 b}{3} + x\\right)}{\\left(\\frac{a}{3} - \\frac{b}{3}\\right) \\left(\\frac{2 a}{3} - \\frac{2 b}{3}\\right)} + \\frac{a \\left(- b + x\\right) \\left(- \\frac{2 a}{3} - \\frac{b}{3} + x\\right)}{\\left(- \\frac{a}{3} + \\frac{b}{3}\\right) \\left(\\frac{a}{3} - \\frac{b}{3}\\right)} + \\frac{a \\left(- \\frac{2 a}{3} - \\frac{b}{3} + x\\right) \\left(- \\frac{a}{3} - \\frac{2 b}{3} + x\\right)}{\\left(- \\frac{2 a}{3} + \\frac{2 b}{3}\\right) \\left(- \\frac{a}{3} + \\frac{b}{3}\\right)} + \\frac{\\left(\\frac{2 a}{3} + \\frac{b}{3}\\right) \\left(- b + x\\right) \\left(- \\frac{a}{3} - \\frac{2 b}{3} + x\\right)}{\\left(\\frac{2 a}{3} - \\frac{2 b}{3}\\right) \\left(a - b\\right)}$"
      ],
      "text/plain": [
       "a*(-b + x)*(-a/3 - 2*b/3 + x)/((a/3 - b/3)*(2*a/3 - 2*b/3)) + a*(-b + x)*(-2*a/3 - b/3 + x)/((-a/3 + b/3)*(a/3 - b/3)) + a*(-2*a/3 - b/3 + x)*(-a/3 - 2*b/3 + x)/((-2*a/3 + 2*b/3)*(-a/3 + b/3)) + (2*a/3 + b/3)*(-b + x)*(-a/3 - 2*b/3 + x)/((2*a/3 - 2*b/3)*(a - b))"
      ]
     },
     "execution_count": 4,
     "metadata": {},
     "output_type": "execute_result"
    }
   ],
   "source": [
    "cardinales=np.array([h,h,h,h])\n",
    "p = 0\n",
    "for i in range(x_n.size):\n",
    "    for j in range(x_n.size):\n",
    "        if i != j:\n",
    "            if cardinales[i] == h:\n",
    "                cardinales[i] = x_n[j]\n",
    "            else:\n",
    "                cardinales[i] = cardinales[i]*(x-x_n[j])/(x_n[i]-x_n[j])\n",
    "    p = p + cardinales[i]\n",
    "        \n",
    "p"
   ]
  },
  {
   "cell_type": "markdown",
   "metadata": {},
   "source": [
    "Usando el metodo de Simpson Compuesto pordemos decir que $\\int_a^b f(x)dx =\\frac{3h}{8}\\left(f(a)+f\\left(\\frac{2a-b}{3}\\right)+f\\left(\\frac{a-2b}{3}\\right)+f(b)\\right)$ "
   ]
  }
 ],
 "metadata": {
  "kernelspec": {
   "display_name": "Python 3",
   "language": "python",
   "name": "python3"
  },
  "language_info": {
   "codemirror_mode": {
    "name": "ipython",
    "version": 3
   },
   "file_extension": ".py",
   "mimetype": "text/x-python",
   "name": "python",
   "nbconvert_exporter": "python",
   "pygments_lexer": "ipython3",
   "version": "3.7.3"
  }
 },
 "nbformat": 4,
 "nbformat_minor": 2
}
