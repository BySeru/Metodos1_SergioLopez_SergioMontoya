{
 "cells": [
  {
   "cell_type": "markdown",
   "metadata": {},
   "source": [
    "# Librerías"
   ]
  },
  {
   "cell_type": "code",
   "execution_count": 1,
   "metadata": {},
   "outputs": [],
   "source": [
    "import numpy as np\n",
    "import matplotlib.pyplot as plt"
   ]
  },
  {
   "cell_type": "markdown",
   "metadata": {},
   "source": [
    "# Def. Variables\n"
   ]
  },
  {
   "cell_type": "code",
   "execution_count": 2,
   "metadata": {},
   "outputs": [],
   "source": [
    "N = 10**5\n",
    "\n",
    "x = np.random.rand(N)\n",
    "y = np.random.rand(N)\n",
    "z = np.random.rand(N)\n",
    "\n",
    "def f(x,y,z):\n",
    "    return(np.exp((x**2+y**2+z**2)**0.5)*(x**2+y**2+z**2))\n",
    "\n",
    "Values = []"
   ]
  },
  {
   "cell_type": "markdown",
   "metadata": {},
   "source": [
    "# Estimación"
   ]
  },
  {
   "cell_type": "code",
   "execution_count": 3,
   "metadata": {},
   "outputs": [
    {
     "name": "stdout",
     "output_type": "stream",
     "text": [
      "8.63659421733039\n"
     ]
    }
   ],
   "source": [
    "for i in range(N):\n",
    "    if (x[i]**2+y[i]**2+z[i]**2)<=1:\n",
    "        Values.append([x[i],y[i],z[i]])\n",
    "\n",
    "ans=[]\n",
    "for i in Values:\n",
    "    ans.append(f(i[0],i[1],i[2]))\n",
    "ans=sum(ans)\n",
    "\n",
    "MinVol=0\n",
    "MaxVol=4*np.pi*1**3/3\n",
    "print(ans*(MaxVol-MinVol)*2**1.5/N)"
   ]
  }
 ],
 "metadata": {
  "kernelspec": {
   "display_name": "Python 3.9.7 64-bit",
   "language": "python",
   "name": "python3"
  },
  "language_info": {
   "codemirror_mode": {
    "name": "ipython",
    "version": 3
   },
   "file_extension": ".py",
   "mimetype": "text/x-python",
   "name": "python",
   "nbconvert_exporter": "python",
   "pygments_lexer": "ipython3",
   "version": "3.9.7"
  },
  "orig_nbformat": 4,
  "vscode": {
   "interpreter": {
    "hash": "11938c6bc6919ae2720b4d5011047913343b08a43b18698fd82dedb0d4417594"
   }
  }
 },
 "nbformat": 4,
 "nbformat_minor": 2
}
