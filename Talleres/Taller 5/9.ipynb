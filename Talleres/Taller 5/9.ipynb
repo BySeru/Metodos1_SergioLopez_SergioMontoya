{
 "cells": [
  {
   "cell_type": "markdown",
   "id": "876c85f6",
   "metadata": {},
   "source": [
    "# Librerias"
   ]
  },
  {
   "cell_type": "code",
   "execution_count": 1,
   "id": "aefb523a",
   "metadata": {},
   "outputs": [],
   "source": [
    "import numpy as np\n",
    "import matplotlib.pyplot as plt"
   ]
  },
  {
   "cell_type": "markdown",
   "id": "4f0afe4d",
   "metadata": {},
   "source": [
    "# Puntos escogidos aleatoriamente y definicion de la función"
   ]
  },
  {
   "cell_type": "code",
   "execution_count": 2,
   "id": "92a3d067",
   "metadata": {},
   "outputs": [],
   "source": [
    "N = 10**6\n",
    "\n",
    "x1 = np.random.uniform(0,1,size=int(N))\n",
    "x2 = np.random.uniform(0,1,size=int(N))\n",
    "x3 = np.random.uniform(0,1,size=int(N))\n",
    "x4 = np.random.uniform(0,1,size=int(N))\n",
    "x5 = np.random.uniform(0,1,size=int(N))\n",
    "x6 = np.random.uniform(0,1,size=int(N))\n",
    "x7 = np.random.uniform(0,1,size=int(N))\n",
    "x8 = np.random.uniform(0,1,size=int(N))\n",
    "\n",
    "def f(x1,x2,x3,x4,x5,x6,x7,x8):\n",
    "    return((2**(-7))*(x1+x2+x3+x4+x5+x6+x7+x8)**2)"
   ]
  },
  {
   "cell_type": "markdown",
   "id": "dd48f0bb",
   "metadata": {},
   "source": [
    "# Calculo del valor"
   ]
  },
  {
   "cell_type": "code",
   "execution_count": 3,
   "id": "78e64606",
   "metadata": {},
   "outputs": [
    {
     "name": "stdout",
     "output_type": "stream",
     "text": [
      "0.13028622279509577\n"
     ]
    }
   ],
   "source": [
    "y = f(x1,x2,x3,x4,x5,x6,x7,x8)\n",
    "y = np.mean(y)\n",
    "print(y)"
   ]
  },
  {
   "cell_type": "markdown",
   "id": "f55c8151",
   "metadata": {},
   "source": [
    "# Verificación"
   ]
  },
  {
   "cell_type": "code",
   "execution_count": 4,
   "id": "6990aa41",
   "metadata": {},
   "outputs": [
    {
     "data": {
      "text/plain": [
       "0.13020833333333334"
      ]
     },
     "execution_count": 4,
     "metadata": {},
     "output_type": "execute_result"
    }
   ],
   "source": [
    "25/192"
   ]
  }
 ],
 "metadata": {
  "kernelspec": {
   "display_name": "Python 3 (ipykernel)",
   "language": "python",
   "name": "python3"
  },
  "language_info": {
   "codemirror_mode": {
    "name": "ipython",
    "version": 3
   },
   "file_extension": ".py",
   "mimetype": "text/x-python",
   "name": "python",
   "nbconvert_exporter": "python",
   "pygments_lexer": "ipython3",
   "version": "3.10.7"
  }
 },
 "nbformat": 4,
 "nbformat_minor": 5
}
