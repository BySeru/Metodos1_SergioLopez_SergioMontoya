{
 "cells": [
  {
   "cell_type": "markdown",
   "metadata": {},
   "source": [
    "# Librerías"
   ]
  },
  {
   "cell_type": "code",
   "execution_count": 1,
   "metadata": {},
   "outputs": [],
   "source": [
    "from math import factorial\n",
    "import numpy as np"
   ]
  },
  {
   "cell_type": "markdown",
   "metadata": {},
   "source": [
    "# Def. Variables"
   ]
  },
  {
   "cell_type": "code",
   "execution_count": 2,
   "metadata": {},
   "outputs": [],
   "source": [
    "alpha = 2\n",
    "beta = 4\n",
    "N = 10000\n",
    "\n",
    "def Gamma(a):\n",
    "    return factorial(a-1)\n",
    "\n",
    "def f(x):\n",
    "    return ( Gamma(alpha+beta) )/( Gamma(alpha)*Gamma(beta) )*(x**(alpha-1))*((1-x)**(beta-1))"
   ]
  },
  {
   "cell_type": "markdown",
   "metadata": {},
   "source": [
    "# Máximo\n",
    "- - -\n",
    "### Primera derivada\n",
    "$20\\left(\\left(-x+1\\right)^3-3x\\left(-x+1\\right)^2\\right)$\n",
    "### Segunda derivada\n",
    "$20\\left(-12x^2+18x-6\\right)$\n",
    "#### Puntos extremos:\n",
    "- $x=\\frac{1}{4}\\longrightarrow$ punto máximo\n",
    "- $x=1\\longrightarrow$ punto de inflexión\n",
    "\n",
    "Ergo, $y = \\frac{135}{64}$\n"
   ]
  },
  {
   "cell_type": "code",
   "execution_count": 3,
   "metadata": {},
   "outputs": [],
   "source": [
    "maxi = 135/64"
   ]
  },
  {
   "cell_type": "markdown",
   "metadata": {},
   "source": [
    "# Integral y error"
   ]
  },
  {
   "cell_type": "code",
   "execution_count": 4,
   "metadata": {},
   "outputs": [
    {
     "name": "stdout",
     "output_type": "stream",
     "text": [
      "El valor de la integral es 0.9941484375\n",
      "El error porcentual de la estimación es 0.585%\n"
     ]
    }
   ],
   "source": [
    "x = np.random.uniform(0, 1, N)\n",
    "y = np.random.uniform(0, maxi, N)\n",
    "\n",
    "valid_points = 0\n",
    "for i in range(N):\n",
    "    if y[i]<f(x[i]):\n",
    "        valid_points+=1\n",
    "\n",
    "integral = maxi * valid_points/N\n",
    "error = np.abs(1-integral)\n",
    "\n",
    "print(f\"El valor de la integral es {integral}\")\n",
    "print(f\"El error porcentual de la estimación es {round(error*100,3)}%\")"
   ]
  }
 ],
 "metadata": {
  "kernelspec": {
   "display_name": "Python 3.9.7 64-bit",
   "language": "python",
   "name": "python3"
  },
  "language_info": {
   "codemirror_mode": {
    "name": "ipython",
    "version": 3
   },
   "file_extension": ".py",
   "mimetype": "text/x-python",
   "name": "python",
   "nbconvert_exporter": "python",
   "pygments_lexer": "ipython3",
   "version": "3.9.7"
  },
  "orig_nbformat": 4,
  "vscode": {
   "interpreter": {
    "hash": "11938c6bc6919ae2720b4d5011047913343b08a43b18698fd82dedb0d4417594"
   }
  }
 },
 "nbformat": 4,
 "nbformat_minor": 2
}
