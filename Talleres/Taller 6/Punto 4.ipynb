{
 "cells": [
  {
   "cell_type": "markdown",
   "id": "36f3072f",
   "metadata": {},
   "source": [
    "# Punto 4 (Teorico)"
   ]
  },
  {
   "cell_type": "markdown",
   "id": "0703c59a",
   "metadata": {},
   "source": [
    "Muestre con detalle que la sustitución hacia adelante se expresa como $$x_i = b_i - \\displaystyle\\sum_{j=0}^{i-1} A_{ij}x_j$$"
   ]
  },
  {
   "cell_type": "markdown",
   "id": "57e64058",
   "metadata": {},
   "source": [
    "Sea un sistema de ecuacione de tamaño $n\\times n$ de la forma:\n",
    "\\begin{align}\n",
    "&a_{11}x_1 + ... + a_{1n}x_n = b_1\\\\\n",
    "&a_{21}x_1 + ... + a_{2n}x_n = b_2\\\\\n",
    "&...... + ... + ..... = ...\\\\\n",
    "&a_{n1}x_1 + ... + a_{nn}x_n = b_n\n",
    "\\end{align}\n",
    "Este sistema tiene una representación matricial de la forma\n",
    "\\begin{pmatrix}\n",
    "a_{11}x_1 & ... & a_{1n}x_n &| &b_1\\\\\n",
    "a_{21}x_1 & ... & a_{2n}x_n &| &b_2\\\\\n",
    "...... & ... & ...... &|& ...\\\\\n",
    "a_{n1}x_1 & ... & a_{nn}x_n& | &b_n\n",
    "\\end{pmatrix}\n",
    "Deseamos llegar a que esto sea una matriz triangular superior para que sea una sustitución hacia adelante y para que se puedan despejar los $x_i$ con facilidad. Para lograr esto hacemos uso de la opearción $$\\frac{a_{ji}}{a_{ii}}R_i - R_j, \\hspace{1cm} i\\in[2,n], j\\in[0,i-1]$$\n",
    "Esta operación lo que hace es anular los $a_{ji}$ por lo que si lo aplicamos pata todo $j$ nos quedaria la matriz triangular que deseabamos con la forma:\n",
    "\\begin{pmatrix}\n",
    "a_{11}x_1 & 0 & ... & 0 &| &b_1\\\\\n",
    "a_{21}x_1 & a_{22} & ... & 0 &| &b_2\\\\\n",
    "...... &...& ... & ...... &|& ...\\\\\n",
    "a_{n1}x_1 & a_{n2} & ... & a_{nn}x_n& | &b_n\n",
    "\\end{pmatrix}\n",
    "\n",
    "si vamos recorriendo nuestra matriz por filas nos quedaria.\n",
    "\\begin{eqnarray}\n",
    "a_{11}x_{1} &=& b_{1}\\\\\n",
    "x_{1}&=&\\frac{b_1}{a_{11}}\n",
    "a_{21}x_{1} + a_{22}x_2 &=& b_2\\\\\n",
    "x_2 &=&\\frac{b_2 - a_{21}x_1}{a_{22}}\\\\\n",
    "x_i &=&\\frac{b_i - \\displaystyle\\sum_{j=1}^{i-1}a_{ij}x_j}{a_{jj}}\n",
    "\\end{eqnarray}\n",
    "En particular con toda la diagonal siendo 1 queda $$x_i = b_i - \\displaystyle\\sum_{j=0}^{i-1} A_{ij}x_j$$"
   ]
  }
 ],
 "metadata": {
  "kernelspec": {
   "display_name": "Python 3 (ipykernel)",
   "language": "python",
   "name": "python3"
  },
  "language_info": {
   "codemirror_mode": {
    "name": "ipython",
    "version": 3
   },
   "file_extension": ".py",
   "mimetype": "text/x-python",
   "name": "python",
   "nbconvert_exporter": "python",
   "pygments_lexer": "ipython3",
   "version": "3.10.7"
  }
 },
 "nbformat": 4,
 "nbformat_minor": 5
}
