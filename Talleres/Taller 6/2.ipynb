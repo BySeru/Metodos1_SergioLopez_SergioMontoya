{
 "cells": [
  {
   "cell_type": "markdown",
   "metadata": {},
   "source": [
    "# Librerías"
   ]
  },
  {
   "cell_type": "code",
   "execution_count": 1,
   "metadata": {},
   "outputs": [],
   "source": [
    "import numpy as np"
   ]
  },
  {
   "cell_type": "markdown",
   "metadata": {},
   "source": [
    "# Métodos de solución de sistemas lineales\n",
    "- - -\n",
    "- Método de Jacobi: `Jacobi`\n",
    "- Método de Gauss-Seide: `GaussSeide`"
   ]
  },
  {
   "cell_type": "code",
   "execution_count": 2,
   "metadata": {},
   "outputs": [],
   "source": [
    "class LS_Sol:\n",
    "    def __init__(self, A, b):\n",
    "        self.A = A\n",
    "        self.b = b\n",
    "        self.itmax = 1000\n",
    "        self.error = 1e-10\n",
    "\n",
    "        self.fil_a = np.size(self.A, 0)\n",
    "        self.col_a = np.size(self.A, 1)\n",
    "\n",
    "    def Jacobi(self):\n",
    "        x = np.zeros(self.col_a)\n",
    "        Sum_k = x.copy()\n",
    "        \n",
    "        it = 0\n",
    "        res = np.linalg.norm(self.b - np.dot(self.A,x))\n",
    "        while (res > self.error and it < self.itmax):\n",
    "            for i in range(self.fil_a):\n",
    "                Sum = 0\n",
    "                for j in range(self.col_a):\n",
    "                    if i != j:\n",
    "                        Sum += self.A[i][j]*x[j]\n",
    "\n",
    "                Sum_k[i] = Sum\n",
    "            for i in range(self.fil_a):\n",
    "                try:\n",
    "                    x[i] = (self.b[i] - Sum_k[i])/self.A[i,i]\n",
    "                except ZeroDivisionError:\n",
    "                    print(\"No fue posible hallar una solución T~T\")\n",
    "\n",
    "            res = np.linalg.norm(self.b - np.dot(self.A,x))\n",
    "            it += 1\n",
    "\n",
    "        return x,it\n",
    "\n",
    "    def GaussSeide(self):\n",
    "        x = np.zeros(self.col_a)\n",
    "        Sum_k = x.copy()\n",
    "\n",
    "        it = 0\n",
    "        residuo = np.linalg.norm(self.b - np.dot(self.A,x))\n",
    "        while (residuo > self.error and it < self.itmax):\n",
    "            for i in range(self.fil_a):\n",
    "                Sum = 0\n",
    "                for j in range(self.col_a):\n",
    "                    if i!=j:\n",
    "                        Sum += self.A[i][j]*x[j]\n",
    "                    \n",
    "                    Sum_k[i] = Sum\n",
    "                    try:\n",
    "                        x[i] = (self.b[i] - Sum_k[i])/self.A[i,i]\n",
    "                    except ZeroDivisionError:\n",
    "                        print(\"No fue posible hallar una solución T~T\")\n",
    "\n",
    "            residuo = np.linalg.norm(self.b-np.dot(self.A,x))\n",
    "            it += 1\n",
    "\n",
    "        return x,it"
   ]
  },
  {
   "cell_type": "markdown",
   "metadata": {},
   "source": [
    "# Probando el ejemplo del libro\n",
    "- - -"
   ]
  },
  {
   "cell_type": "markdown",
   "metadata": {},
   "source": [
    "### Matrices"
   ]
  },
  {
   "cell_type": "code",
   "execution_count": 3,
   "metadata": {},
   "outputs": [],
   "source": [
    "A = np.array([[3,-1,-1],[-1.,3.,1.],[2,1,4]])\n",
    "b = np.array([1.,3.,7.])"
   ]
  },
  {
   "cell_type": "markdown",
   "metadata": {},
   "source": [
    "### Soluciones por cada método"
   ]
  },
  {
   "cell_type": "code",
   "execution_count": 4,
   "metadata": {},
   "outputs": [
    {
     "name": "stdout",
     "output_type": "stream",
     "text": [
      "\u001b[1m Método de Jacobi\n",
      "\u001b[0m-Solución: [1. 1. 1.]\n",
      "-Iteraciones: 23\n",
      "\n",
      "\u001b[1m Método de Gauss-Seide\n",
      "\u001b[0m-Solución: [1. 1. 1.]\n",
      "-Iteraciones: 18\n"
     ]
    }
   ],
   "source": [
    "LS = LS_Sol(A, b)\n",
    "J_sol, J_it = LS.Jacobi()\n",
    "GS_sol, GS_it = LS.GaussSeide()\n",
    "\n",
    "print(\"\\033[1m\"+\" Método de Jacobi\\n\"+\"\\033[0m\"+\"-Solución: {}\\n-Iteraciones: {}\\n\".format(J_sol,J_it))\n",
    "print(\"\\033[1m\"+\" Método de Gauss-Seide\\n\"+\"\\033[0m\"+\"-Solución: {}\\n-Iteraciones: {}\".format(GS_sol,GS_it))"
   ]
  }
 ],
 "metadata": {
  "kernelspec": {
   "display_name": "Python 3.9.7 64-bit",
   "language": "python",
   "name": "python3"
  },
  "language_info": {
   "codemirror_mode": {
    "name": "ipython",
    "version": 3
   },
   "file_extension": ".py",
   "mimetype": "text/x-python",
   "name": "python",
   "nbconvert_exporter": "python",
   "pygments_lexer": "ipython3",
   "version": "3.9.7"
  },
  "orig_nbformat": 4,
  "vscode": {
   "interpreter": {
    "hash": "11938c6bc6919ae2720b4d5011047913343b08a43b18698fd82dedb0d4417594"
   }
  }
 },
 "nbformat": 4,
 "nbformat_minor": 2
}
