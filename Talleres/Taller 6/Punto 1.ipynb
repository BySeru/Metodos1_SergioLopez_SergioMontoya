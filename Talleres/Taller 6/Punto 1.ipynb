{
 "cells": [
  {
   "cell_type": "code",
   "execution_count": 1,
   "id": "b9c07d56",
   "metadata": {},
   "outputs": [],
   "source": [
    "import numpy as np"
   ]
  },
  {
   "cell_type": "code",
   "execution_count": 2,
   "id": "4a04024a",
   "metadata": {},
   "outputs": [],
   "source": [
    "M = np.array([[3.,-1.,-1.],[-1.,3.,1.],[2.,1.,4.]])\n",
    "b = np.array([1.,3.,7.])"
   ]
  },
  {
   "cell_type": "code",
   "execution_count": 3,
   "id": "a0e75779",
   "metadata": {},
   "outputs": [
    {
     "data": {
      "text/plain": [
       "array([1., 1., 1.])"
      ]
     },
     "execution_count": 3,
     "metadata": {},
     "output_type": "execute_result"
    }
   ],
   "source": [
    "np.linalg.solve(M,b)"
   ]
  },
  {
   "cell_type": "code",
   "execution_count": 4,
   "id": "fcb08dc9",
   "metadata": {},
   "outputs": [],
   "source": [
    "def GetGaussSeidel(A,b):\n",
    "    filas, columnas = (np.size(A,0),np.size(A,1))\n",
    "    x = np.zeros(filas)\n",
    "    sumk = np.zeros_like(x)\n",
    "    iteracion = 0\n",
    "    residuo = np.linalg.norm(b-np.dot(A,x))\n",
    "    while (iteracion < 10000 and residuo > 1e-10):\n",
    "        iteracion += 1\n",
    "        for i in range(filas):\n",
    "            sum_ = 0\n",
    "            for j in range(columnas):\n",
    "                if i!=j:\n",
    "                    sum_ += A[i][j]*x[j]\n",
    "                sumk[i] = sum_\n",
    "                if A[i][i] != 0:\n",
    "                    x[i] = (b[i]-sumk[i])/A[i,i]\n",
    "        residuo = np.linalg.norm(b-np.dot(A,x))\n",
    "    return x, iteracion, residuo"
   ]
  },
  {
   "cell_type": "code",
   "execution_count": 5,
   "id": "2901812e",
   "metadata": {},
   "outputs": [],
   "source": [
    "Xsol, it, error = GetGaussSeidel(M,b)"
   ]
  },
  {
   "cell_type": "code",
   "execution_count": 6,
   "id": "4bc5fcc3",
   "metadata": {},
   "outputs": [
    {
     "name": "stdout",
     "output_type": "stream",
     "text": [
      "Las soluciones halladas fueron [1. 1. 1.]\n"
     ]
    }
   ],
   "source": [
    "print(\"Las soluciones halladas fueron\",Xsol)"
   ]
  },
  {
   "cell_type": "code",
   "execution_count": 7,
   "id": "a9c14b79",
   "metadata": {},
   "outputs": [
    {
     "name": "stdout",
     "output_type": "stream",
     "text": [
      "Se itero  18  veces\n"
     ]
    }
   ],
   "source": [
    "print(\"Se itero \", it, \" veces\")"
   ]
  },
  {
   "cell_type": "code",
   "execution_count": 8,
   "id": "085bfb5c",
   "metadata": {},
   "outputs": [
    {
     "name": "stdout",
     "output_type": "stream",
     "text": [
      "Se consigui un error de  5.8030712832710874e-11\n"
     ]
    }
   ],
   "source": [
    "print(\"Se consigui un error de \", error)"
   ]
  }
 ],
 "metadata": {
  "kernelspec": {
   "display_name": "Python 3 (ipykernel)",
   "language": "python",
   "name": "python3"
  },
  "language_info": {
   "codemirror_mode": {
    "name": "ipython",
    "version": 3
   },
   "file_extension": ".py",
   "mimetype": "text/x-python",
   "name": "python",
   "nbconvert_exporter": "python",
   "pygments_lexer": "ipython3",
   "version": "3.10.7"
  }
 },
 "nbformat": 4,
 "nbformat_minor": 5
}
