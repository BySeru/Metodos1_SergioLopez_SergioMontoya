{
 "cells": [
  {
   "cell_type": "markdown",
   "metadata": {},
   "source": [
    "# Librerías"
   ]
  },
  {
   "cell_type": "code",
   "execution_count": 1,
   "metadata": {},
   "outputs": [],
   "source": [
    "import numpy as np"
   ]
  },
  {
   "cell_type": "markdown",
   "metadata": {},
   "source": [
    "# Función del producto matricial"
   ]
  },
  {
   "cell_type": "code",
   "execution_count": 2,
   "metadata": {},
   "outputs": [],
   "source": [
    "def MatrixMul(A, B):\n",
    "    fil_a = np.size(A, 0)\n",
    "    fil_b = np.size(B, 0)\n",
    "\n",
    "    col_a = np.size(A, 1)\n",
    "    col_b = np.size(B, 1)\n",
    "\n",
    "    if col_a != fil_b:\n",
    "        raise Exception(\"No es posible multiplicarlas T~T\")\n",
    "    \n",
    "    else:\n",
    "        MatrixProd = np.empty((fil_a, col_b))\n",
    "        for i in range(fil_a):\n",
    "            for j in range(col_b):\n",
    "                Sum = 0\n",
    "                for k in range(col_a):\n",
    "                    Sum += A[i][k]*B[k][j]\n",
    "                MatrixProd[i][j] = Sum\n",
    "\n",
    "        return MatrixProd\n",
    "    "
   ]
  },
  {
   "cell_type": "markdown",
   "metadata": {},
   "source": [
    "# Cálculo solicitado"
   ]
  },
  {
   "cell_type": "code",
   "execution_count": 3,
   "metadata": {},
   "outputs": [
    {
     "name": "stdout",
     "output_type": "stream",
     "text": [
      "[[ 4. -2.  1.]\n",
      " [20. -7. 12.]\n",
      " [-8. 13. 21.]]\n"
     ]
    }
   ],
   "source": [
    "A = np.array([[1, 0, 0], [5, 1, 0], [-2, 3, 1]])\n",
    "B = np.array([[4, -2, 1], [0, 3, 7], [0, 0, 2]])\n",
    "\n",
    "print(MatrixMul(A,B))"
   ]
  }
 ],
 "metadata": {
  "kernelspec": {
   "display_name": "Python 3.9.7 64-bit",
   "language": "python",
   "name": "python3"
  },
  "language_info": {
   "codemirror_mode": {
    "name": "ipython",
    "version": 3
   },
   "file_extension": ".py",
   "mimetype": "text/x-python",
   "name": "python",
   "nbconvert_exporter": "python",
   "pygments_lexer": "ipython3",
   "version": "3.9.7"
  },
  "orig_nbformat": 4,
  "vscode": {
   "interpreter": {
    "hash": "11938c6bc6919ae2720b4d5011047913343b08a43b18698fd82dedb0d4417594"
   }
  }
 },
 "nbformat": 4,
 "nbformat_minor": 2
}
