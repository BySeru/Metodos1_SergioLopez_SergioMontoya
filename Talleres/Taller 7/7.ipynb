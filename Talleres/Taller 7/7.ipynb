{
 "cells": [
  {
   "cell_type": "markdown",
   "metadata": {},
   "source": [
    "# Librerías"
   ]
  },
  {
   "cell_type": "code",
   "execution_count": 1,
   "metadata": {},
   "outputs": [],
   "source": [
    "import numpy as np\n",
    "import os.path as path\n",
    "import matplotlib.pyplot as plt"
   ]
  },
  {
   "cell_type": "markdown",
   "metadata": {},
   "source": [
    "# Def Variables"
   ]
  },
  {
   "cell_type": "code",
   "execution_count": 2,
   "metadata": {},
   "outputs": [],
   "source": [
    "file = 'Sigmoid.csv'\n",
    "Path_ = file\n",
    "\n",
    "data = np.loadtxt(Path_,dtype=float,delimiter=\",\",skiprows=1)\n",
    "\n",
    "x = data[:,0]\n",
    "y = data[:,1]\n",
    "N = len(x)"
   ]
  },
  {
   "cell_type": "markdown",
   "metadata": {},
   "source": [
    "# a) Modelo de ajuste"
   ]
  },
  {
   "cell_type": "code",
   "execution_count": 3,
   "metadata": {},
   "outputs": [],
   "source": [
    "def M(x,p):\n",
    "    return p[0]/(p[1]+np.exp(-p[2]*x))"
   ]
  },
  {
   "cell_type": "markdown",
   "metadata": {},
   "source": [
    "# b) Función de costo"
   ]
  },
  {
   "cell_type": "code",
   "execution_count": 4,
   "metadata": {},
   "outputs": [],
   "source": [
    "def X2(p,x,y):\n",
    "    term= y-M(x,p)\n",
    "    return np.sum(term**2)"
   ]
  },
  {
   "cell_type": "markdown",
   "metadata": {},
   "source": [
    "# c) Demostración de las derivadas parciales"
   ]
  },
  {
   "cell_type": "markdown",
   "metadata": {},
   "source": [
    "Sea, $$x^2(\\overrightarrow{\\theta})=\\sum_{i=1}^n{\\biggl(\\frac{y_i-M(x_i,\\overrightarrow{\\theta})}{\\sigma_i}\\biggr)}^2.$$\n",
    "Decimos que $\\forall_i\\,\\sigma_i=1$. Luego, $$\\frac{\\partial x^2(\\overrightarrow{\\theta})}{\\partial \\theta_i}=\\sum_{i=1}^n2\\biggl(y_i-M(x_i,\\overrightarrow{\\theta})\\biggr)\\frac{-\\partial M(x_i,\\overrightarrow{\\theta})}{\\partial \\theta_i}=-2\\sum_{i=1}^n\\biggl(y_i-M(x_i,\\overrightarrow{\\theta})\\biggr)\\frac{\\partial M(x_i,\\overrightarrow{\\theta})}{\\partial \\theta_i}.$$"
   ]
  },
  {
   "cell_type": "markdown",
   "metadata": {},
   "source": [
    "# d) Demostración del descenso del gradiente"
   ]
  },
  {
   "cell_type": "markdown",
   "metadata": {},
   "source": [
    "Se tiene que $\\overrightarrow{\\theta}_{j+1}=\\overrightarrow{\\theta}_j-\\gamma\\triangledown x^2(\\overrightarrow{\\theta}_j)$. Luego, $\\overrightarrow{\\theta}_{j+1}=\\overrightarrow{\\theta}_j-\\gamma\\biggl(y_i-M(x_i,\\overrightarrow{\\theta}))\\biggl[\\frac{\\partial M(x_i,\\overrightarrow{\\theta})}{\\partial \\theta_0},\\frac{\\partial M(x_i,\\overrightarrow{\\theta})}{\\partial \\theta_1},\\frac{\\partial M(x_i,\\overrightarrow{\\theta})}{\\partial \\theta_2}\\biggr]\\biggr)$.\n",
    "\n",
    "$\\therefore\\,\\overrightarrow{\\theta}_{j+1}=\\overrightarrow{\\theta}_j-\\gamma\\biggl(-2\\sum_{i=1}^n\\biggl(y_i-M(x_i,\\overrightarrow{\\theta})\\biggr)\\triangledown M(x_i,\\overrightarrow{\\theta}_j)\\biggr).$"
   ]
  },
  {
   "cell_type": "markdown",
   "metadata": {},
   "source": [
    "# e) Taza de aprendizaje"
   ]
  },
  {
   "cell_type": "code",
   "execution_count": 5,
   "metadata": {},
   "outputs": [],
   "source": [
    "Theta = np.array([1,1,1])\n",
    "\n",
    "def GetGrad(M,p,x,h=1e-6):\n",
    "    dim=len(p)\n",
    "    J = np.zeros(dim)\n",
    "    \n",
    "    for j in range(dim):\n",
    "        h_=np.zeros(dim)\n",
    "        h_[j]=h\n",
    "        J[j] = (  M(x,p+h_) - M(x,p-h_) )/(2*h)\n",
    "                \n",
    "    return J"
   ]
  },
  {
   "cell_type": "code",
   "execution_count": 6,
   "metadata": {},
   "outputs": [
    {
     "name": "stdout",
     "output_type": "stream",
     "text": [
      "Estamos entrenando el código, no se vaya\n",
      "Máximo de iteraciones alcanzado  0.04589848774110997\n",
      "parámetros:  [4.35688088 0.96529898 2.79303697]\n"
     ]
    }
   ],
   "source": [
    "def DescGrad(M,p,x,y,lr=1e-3,epochs=int(1e4),error=1e-2):\n",
    "    d = 1\n",
    "    it = 0\n",
    "    \n",
    "    print(\"Estamos entrenando el código, no se vaya\")\n",
    "    \n",
    "    while d > error and it < epochs:\n",
    "        Sum=0\n",
    "        \n",
    "        #Machine Learning\n",
    "        for i in range(len(y)):\n",
    "            Sum += (y[i]-M(x[i],p))*GetGrad(M,p,x[i])\n",
    "\n",
    "        p = p - lr*(-2)*Sum\n",
    "        New = X2(p,x,y)\n",
    "        d = np.sqrt(New/len(y))\n",
    "          \n",
    "        it += 1\n",
    "\n",
    "    if it == epochs:\n",
    "        print('Máximo de iteraciones alcanzado ',d)\n",
    "        \n",
    "    return p,it\n",
    "\n",
    "\n",
    "par,num_it=DescGrad(M,Theta,x,y)\n",
    "print(\"parámetros: \",par)"
   ]
  },
  {
   "cell_type": "markdown",
   "metadata": {},
   "source": [
    "# f) Gráfica"
   ]
  },
  {
   "cell_type": "code",
   "execution_count": 7,
   "metadata": {},
   "outputs": [
    {
     "data": {
      "image/png": "[encoded data removed]",
      "text/plain": [
       "<Figure size 640x480 with 1 Axes>"
      ]
     },
     "metadata": {},
     "output_type": "display_data"
    }
   ],
   "source": [
    "X=np.linspace(-10,10,120)\n",
    "plt.scatter(x,y,color=\"r\")\n",
    "plt.plot(X,M(X,par))\n",
    "plt.show()"
   ]
  }
 ],
 "metadata": {
  "kernelspec": {
   "display_name": "Python 3.9.7 64-bit",
   "language": "python",
   "name": "python3"
  },
  "language_info": {
   "codemirror_mode": {
    "name": "ipython",
    "version": 3
   },
   "file_extension": ".py",
   "mimetype": "text/x-python",
   "name": "python",
   "nbconvert_exporter": "python",
   "pygments_lexer": "ipython3",
   "version": "3.9.7"
  },
  "orig_nbformat": 4,
  "vscode": {
   "interpreter": {
    "hash": "11938c6bc6919ae2720b4d5011047913343b08a43b18698fd82dedb0d4417594"
   }
  }
 },
 "nbformat": 4,
 "nbformat_minor": 2
}
