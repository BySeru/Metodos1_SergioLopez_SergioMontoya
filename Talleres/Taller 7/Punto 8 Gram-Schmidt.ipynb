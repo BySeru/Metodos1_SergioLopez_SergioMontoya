{
 "cells": [
  {
   "cell_type": "code",
   "execution_count": 1,
   "metadata": {},
   "outputs": [],
   "source": [
    "import numpy as np"
   ]
  },
  {
   "cell_type": "code",
   "execution_count": 2,
   "metadata": {},
   "outputs": [],
   "source": [
    "A = np.array([[3,1,0,1], [1,2,1,1], [-1,0,2,-1]])\n",
    "b = np.array([-3,-3,8,9])"
   ]
  },
  {
   "cell_type": "code",
   "execution_count": 4,
   "metadata": {},
   "outputs": [],
   "source": [
    "v1 = A[0]/np.linalg.norm(A[0])\n",
    "v2 = A[1] - (np.dot(A[1],v1)/(np.linalg.norm(v1)**2))*v1\n",
    "v2 = v2/np.linalg.norm(v2)\n",
    "v3 = A[2] - (np.dot(A[2],v1)/(np.linalg.norm(v1)**2))*v1 - (np.dot(A[2],v2)/(np.linalg.norm(v2)**2))*v2\n",
    "v3 = v3/np.linalg.norm(v3)"
   ]
  },
  {
   "cell_type": "code",
   "execution_count": 5,
   "metadata": {},
   "outputs": [],
   "source": [
    "c1 = np.dot(b,v1)\n",
    "c2 = np.dot(b,v2)\n",
    "c3 = np.dot(b,v3)"
   ]
  },
  {
   "cell_type": "code",
   "execution_count": 7,
   "metadata": {},
   "outputs": [
    {
     "name": "stdout",
     "output_type": "stream",
     "text": [
      "La proyección ortogonal de los puntos en el espacio b es (-2,3,4,0)\n"
     ]
    }
   ],
   "source": [
    "P = (c1*v1 + c2*v2 + c3*v3)\n",
    "print('La proyección ortogonal de los puntos en el espacio W es ({},{},{},{})'.format(round(P[0]),round(P[1]),round(P[2]),round(P[3])))"
   ]
  }
 ],
 "metadata": {
  "kernelspec": {
   "display_name": "Python 3",
   "language": "python",
   "name": "python3"
  },
  "language_info": {
   "codemirror_mode": {
    "name": "ipython",
    "version": 3
   },
   "file_extension": ".py",
   "mimetype": "text/x-python",
   "name": "python",
   "nbconvert_exporter": "python",
   "pygments_lexer": "ipython3",
   "version": "3.7.3"
  }
 },
 "nbformat": 4,
 "nbformat_minor": 2
}
