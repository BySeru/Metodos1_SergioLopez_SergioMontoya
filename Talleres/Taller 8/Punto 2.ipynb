{
 "cells": [
  {
   "cell_type": "markdown",
   "id": "1aee56dc",
   "metadata": {},
   "source": [
    "# Axiomas de la probabilidad\n",
    "## Punto 2\n",
    "### Teoria Previa\n",
    "#### Axiomas de Kolmogórov\n",
    "$$P(\\Omega) = 1$$ $$\\forall A \\in \\aleph, P(A)\\geq 0$$ $$P(\\cup^{\\infty}_iA_i)=\\displaystyle\\sum_{i=1}^n P(A_i),\\text{ si }A_i\\cap A_j = \\emptyset, \\forall i \\neq j$$\n"
   ]
  },
  {
   "cell_type": "markdown",
   "id": "4eb47ee2",
   "metadata": {},
   "source": [
    "### a) $P(\\emptyset)=0$\n",
    "\n",
    "Sea $\\Omega$ un espacio muestral. Por el primer Axioma de Kolmogorov sabemos que $P(\\Omega) = 1$ y por lo tanto $P(\\Omega^{c}) = 0$ y como $\\Omega$ es el espacio muestral entonces $\\Omega^c = \\emptyset$"
   ]
  },
  {
   "cell_type": "markdown",
   "id": "2ef61b28",
   "metadata": {},
   "source": [
    "### b)  $P(A^c) = 1 - P(A)$\n",
    "\\begin{align*}\n",
    "&P(\\Omega) = 1\\\\\n",
    "&P(A\\cup A^c) = 1\\\\\n",
    "&\\text{Dado que por definición }A\\cap A^c = \\emptyset\\\\\n",
    "&P(A) + P(A^c) = 1\\\\\n",
    "&P(A^c) = 1 - P(A)\n",
    "\\end{align*}"
   ]
  },
  {
   "cell_type": "markdown",
   "id": "3557c1fa",
   "metadata": {},
   "source": [
    "### f) $P(A\\cup B) = P(A) + P(B) - P(A\\cap B)$\n",
    "Sea $\\aleph$ una colección de subconjuntos de $\\Omega$ con la forma $\\aleph = \\{A,B\\} : (A\\cap B) \\neq \\emptyset$ entonces $P(A\\cup B) = P((A \\cap B)^c) + P(A \\cap B)$. Ahora, podemos escribir $P(A\\cup B) = P(A-(A\\cap B))+P(B-(A\\cap B)) + P(A\\cap B)= P(A) - P(A\\cap B) + P(B) - P(A\\cap B) + P(A\\cap B)= P(A) + P(B) - P(A\\cap B)$"
   ]
  }
 ],
 "metadata": {
  "kernelspec": {
   "display_name": "Python 3 (ipykernel)",
   "language": "python",
   "name": "python3"
  },
  "language_info": {
   "codemirror_mode": {
    "name": "ipython",
    "version": 3
   },
   "file_extension": ".py",
   "mimetype": "text/x-python",
   "name": "python",
   "nbconvert_exporter": "python",
   "pygments_lexer": "ipython3",
   "version": "3.10.8"
  }
 },
 "nbformat": 4,
 "nbformat_minor": 5
}
