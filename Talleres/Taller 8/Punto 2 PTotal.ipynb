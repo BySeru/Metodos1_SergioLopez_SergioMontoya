{
 "cells": [
  {
   "cell_type": "markdown",
   "id": "81191bde",
   "metadata": {},
   "source": [
    "# Probabilidad Condicional y Total"
   ]
  },
  {
   "cell_type": "markdown",
   "id": "6c8e8e36",
   "metadata": {},
   "source": [
    "## Punto 2\n",
    "\n",
    "### a) P(R) \n",
    "Revisemos primero la posibilidad de sacar una bola de la urna 1. Como son 1 o 2 de 6 caras posibles entonces la probabilidad de sacar de la urna 1 es $P(1) = \\frac{2}{6}$ y luego en la urna hay 3 de 10 bolas rojas. Por lo tanto $P(R_1) = \\frac{3}{10}$ y por ende la posibilidad de que pasen ambos es $P(R_1) = \\frac{6}{60} = \\frac{1}{10}$. Ahora bien, la probabilidad de que saquemos la esfera de la segunda urna es $P(2)=\\frac{4}{6}$ y en la urna 2 hay 6 rojas de 10, por lo que, $P(R_2) = \\frac{6}{10}$ y por ende la probabilidad total es $P(R_2) = \\frac{24}{60} = \\frac{2}{5}$. Ahora para que ambos sucedan debemos considerarlos ambos y en consecuencia sumarlo $P(R)=\\frac{1}{10}+\\frac{2}{5}=\\frac{5 + 20}{50}=\\frac{25}{50} = \\frac{1}{2}$\n",
    "\n",
    "### b) P(N)\n",
    "Revisemos primero la posibilidad de sacar una bola de la urna 1. Como son 1 o 2 de 6 caras posibles entonces la probabilidad de sacar de la urna 1 es $P(1) = \\frac{2}{6}$ y luego en la urna hay 1 de 10 bolas negras. Por lo tanto $P(N) = \\frac{1}{10}$ y por ende la posibilidad de que pasen ambos es $P(N_1) = \\frac{2}{60} = \\frac{1}{30}$. Ahora bien, la probabilidad de que saquemos la esfera de la segunda urna es $P(2)=\\frac{4}{6}$ y en la urna 2 hay 2 negras de 10, por lo que, $P(N_2) = \\frac{2}{10}$ y por ende la probabilidad total es $P(N_2) = \\frac{8}{60} = \\frac{2}{15}$. Ahora para que ambos sucedan debemos considerarlos ambos y en consecuencia sumarlo $P(N)=\\frac{1}{30}+\\frac{2}{15}=\\frac{15 + 60}{450}=\\frac{75}{450}=\\frac{1}{6}$\n",
    "\n",
    "### c) P(1/N)\n",
    "Por teorema de Bayes $P(1/N) = \\frac{P(N/1)P(1)}{P(N)}$ y por el punto B ya habiamos calculado todo por lo que $P(1/N) =  \\frac{\\frac{1}{10}\\frac{2}{6}}{\\frac{1}{6}}=\\frac{\\frac{2}{60}}{\\frac{1}{6}}=\\frac{12}{60}=\\frac{1}{5}$\n",
    "\n",
    "### d) P(2/N)\n",
    "Por teorema de Bayes $P(2/N) = \\frac{P(N/2)P(2)}{P(N)}$ y por el punto B ya habiamos calculado todo por lo que $P(1/N) =  \\frac{\\frac{2}{10}\\frac{4}{6}}{\\frac{1}{6}}=\\frac{\\frac{8}{60}}{\\frac{1}{6}}=\\frac{4}{5}$"
   ]
  }
 ],
 "metadata": {
  "kernelspec": {
   "display_name": "SageMath 9.7",
   "language": "sage",
   "name": "sagemath"
  },
  "language_info": {
   "codemirror_mode": {
    "name": "ipython",
    "version": 3
   },
   "file_extension": ".py",
   "mimetype": "text/x-python",
   "name": "python",
   "nbconvert_exporter": "python",
   "pygments_lexer": "ipython3",
   "version": "3.10.8"
  }
 },
 "nbformat": 4,
 "nbformat_minor": 5
}
