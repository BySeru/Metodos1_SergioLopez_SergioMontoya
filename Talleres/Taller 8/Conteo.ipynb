{
 "cells": [
  {
   "cell_type": "markdown",
   "id": "d4336519",
   "metadata": {},
   "source": [
    "# Tecnicas de conteo\n",
    "## Punto 20\n",
    "Imagine usted que tiene que repartir n objetos en k cajas. en tal caso una opcion para representarlo seria poner todos los objetos de la siguiente manera:\n",
    "$$*****/***/*//.../****/***$$\n",
    "Donde cada uno de los asteriscos es un objeto y los slahs representan la división que se hizo de estos. Por ende, como puede ver esto se transforma en la manera de ordenar todos esos elementos y definir cuantas slash hay. Es decir, usted va a repartir n + (k - 1) objetos y de esos k-1 son \"cajas\" (Es k -1 pues son los asteriscos anteriores al slash los que cuentan y no necesita estar \"entre\" dos slash). Por lo tanto la combinación es de un grupo de n + k -1 elementos escoger k-1 para que sean \"cajas\" en otras palabras $$(^{n+k-1}_{k-1}$$\n",
    "## Punto 22\n",
    "Este problema, tambien lo podemos pasar a como repartimos 10 bolas en 3 cajas. Esto por que estamos en los naturales  entonces nos queda $$CR^{12}_{2}=\\frac{12!}{2!10!}= \\frac{12*11}{2}=66 $$ \n",
    "## Punto 23\n",
    "Note que podemos transformar este problema en otro que resuelva la ecuación $R + G + B = 4$ donde R es el numero de llaves Rojas G el de llaves verdes y B el de llaves azules y por ende es equivalente al punto anterior con.\n",
    "$$CR^{6}_{2}=\\frac{6!}{2!4!} = \\frac{6*5}{2} = 15$$ sin embargo a este resultado le debemos restar 3 que son las tres posibilidades en donde R o G o B valen 4. En conclusión el resultado es $15-3 = 12$"
   ]
  }
 ],
 "metadata": {
  "kernelspec": {
   "display_name": "Python 3 (ipykernel)",
   "language": "python",
   "name": "python3"
  },
  "language_info": {
   "codemirror_mode": {
    "name": "ipython",
    "version": 3
   },
   "file_extension": ".py",
   "mimetype": "text/x-python",
   "name": "python",
   "nbconvert_exporter": "python",
   "pygments_lexer": "ipython3",
   "version": "3.10.8"
  }
 },
 "nbformat": 4,
 "nbformat_minor": 5
}
