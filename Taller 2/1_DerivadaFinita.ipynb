{
 "cells": [
  {
   "cell_type": "markdown",
   "metadata": {},
   "source": [
    "# Librerías"
   ]
  },
  {
   "cell_type": "code",
   "execution_count": 44,
   "metadata": {},
   "outputs": [],
   "source": [
    "import numpy as np\n",
    "import matplotlib.pyplot as plt"
   ]
  },
  {
   "cell_type": "markdown",
   "metadata": {},
   "source": [
    "# Def. Variables\n",
    "- - -\n",
    "Paramétros dados por el enunciado y máscara de la segunda derivada *(véase el apartado de derivadas)*."
   ]
  },
  {
   "cell_type": "code",
   "execution_count": 45,
   "metadata": {},
   "outputs": [],
   "source": [
    "x = np.linspace(-10, 10, 300)\n",
    "m = [-1,0,1]\n",
    "m2 = [1,-2,1]\n",
    "h = 0.05\n",
    "\n",
    "def f(x):\n",
    "    return (1/(np.sqrt(1+np.exp(-x**2))))"
   ]
  },
  {
   "cell_type": "markdown",
   "metadata": {},
   "source": [
    "# Derivadas\n",
    "- - -\n",
    "##### Operador de la derivada central: \n",
    "- Derivada central (*`central`*):\n",
    "$$\\frac{f(x+h)-f(x-h)}{2h}.$$\n",
    "- Operador central (*`op_central`*):\n",
    "$$Df(x_n)=\\frac{1}{2h}\\sum_{m=-1}^{1}M[m+1]f(x_{n-m}).$$\n",
    "- - -\n",
    "##### Valor real (*`real_value`*):\n",
    "$$f'(x)=\\frac{xe^{(-x^2)}}{{(\\sqrt{1+e^{-x^2}})}^3}.$$\n",
    "- - -\n",
    "*[punto 1.4a]* \n",
    "##### Segunda derivada (*`second`*):   \n",
    "\n",
    "Sabemos que $$f''(x)=\\frac{f(x+h)-2f(x)+f(x-h)}{h^2}.$$ Luego podemos denotar a la nueva máscara de la convolución como $m2=[1, -2, 1]$.  \n",
    "\n",
    "Por consiguiente, es correcto afirmar que: $$D^2f(x_n)=\\frac{1}{h^2}\\sum_{m=-1}^{1}M[m+1]f(x_{n-m}).$$"
   ]
  },
  {
   "cell_type": "code",
   "execution_count": 46,
   "metadata": {},
   "outputs": [],
   "source": [
    "class Derivate():\n",
    "    def __init__(self,x,f):\n",
    "        self.x=x\n",
    "        self.f=f\n",
    "\n",
    "    def central(self):\n",
    "        return (f(x+h)-f(x-h))/(2*h)\n",
    "    def real_value(self):\n",
    "        return (x*np.exp(-x**2)) / ((np.sqrt(1+np.exp(-x**2)))**3)\n",
    "    def op_central(self):\n",
    "        sum = 0\n",
    "        for i in m:\n",
    "            sum+= f(x-i)*i\n",
    "        return sum/(2*h)\n",
    "    def second(self):\n",
    "        sum = 0\n",
    "        for i in range(-1,2):\n",
    "            sum+= f(x-i)*m2[i+1]\n",
    "        return sum/(2**h)\n",
    "\n",
    "d=Derivate(x,f)"
   ]
  },
  {
   "cell_type": "markdown",
   "metadata": {},
   "source": [
    "# Error Local\n",
    "- - -\n",
    "- `d_central` : Punto 1.2a\n",
    "- `error` : Punto 1.2b"
   ]
  },
  {
   "cell_type": "code",
   "execution_count": 47,
   "metadata": {},
   "outputs": [],
   "source": [
    "d_central = d.central()\n",
    "error = np.abs(d_central-d.real_value())"
   ]
  },
  {
   "cell_type": "markdown",
   "metadata": {},
   "source": [
    "# Op. Derivada Central\n",
    "- - -\n",
    "- `Op_Central` : Punto 1.3\n",
    "- `Op_2_Central` : Punto 1.4b"
   ]
  },
  {
   "cell_type": "code",
   "execution_count": 48,
   "metadata": {},
   "outputs": [],
   "source": [
    "Op_Central = d.op_central()\n",
    "Op_2_Central = d.second()"
   ]
  }
 ],
 "metadata": {
  "kernelspec": {
   "display_name": "Python 3.9.7 64-bit",
   "language": "python",
   "name": "python3"
  },
  "language_info": {
   "codemirror_mode": {
    "name": "ipython",
    "version": 3
   },
   "file_extension": ".py",
   "mimetype": "text/x-python",
   "name": "python",
   "nbconvert_exporter": "python",
   "pygments_lexer": "ipython3",
   "version": "3.9.7"
  },
  "orig_nbformat": 4,
  "vscode": {
   "interpreter": {
    "hash": "11938c6bc6919ae2720b4d5011047913343b08a43b18698fd82dedb0d4417594"
   }
  }
 },
 "nbformat": 4,
 "nbformat_minor": 2
}
