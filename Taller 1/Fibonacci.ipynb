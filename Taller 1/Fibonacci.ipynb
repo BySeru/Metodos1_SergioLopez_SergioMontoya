{
 "cells": [
  {
   "cell_type": "markdown",
   "metadata": {},
   "source": [
    "# Librerías"
   ]
  },
  {
   "cell_type": "code",
   "execution_count": null,
   "metadata": {},
   "outputs": [],
   "source": [
    "%matplotlib inline\n",
    "import numpy as np\n",
    "import matplotlib.pyplot as plt"
   ]
  },
  {
   "cell_type": "markdown",
   "metadata": {},
   "source": [
    "# Vigésimo término de Fibonacci"
   ]
  },
  {
   "cell_type": "code",
   "execution_count": null,
   "metadata": {},
   "outputs": [],
   "source": [
    "def fibonacci(term=20):\n",
    "    a=0\n",
    "    b=1\n",
    "    list=[]\n",
    "    \n",
    "    for i in range(term):\n",
    "        list.append(a)\n",
    "        f_sum =a+b\n",
    "        a=b\n",
    "        b=f_sum\n",
    "    \n",
    "    return list"
   ]
  },
  {
   "cell_type": "markdown",
   "metadata": {},
   "source": [
    "# Razón aurea"
   ]
  },
  {
   "cell_type": "code",
   "execution_count": null,
   "metadata": {},
   "outputs": [],
   "source": [
    "def aurea(list=fibonacci()):\n",
    "    phi=(1+(5)**(1/2))/2\n",
    "    phi_lim=[]\n",
    "    phi_list=[]\n",
    "    n_1=1\n",
    "\n",
    "    for n_2 in range(1,len(list)):\n",
    "        phi_f=list[n_2]/list[n_1]\n",
    "        phi_lim.append(phi_f)\n",
    "        phi_list.append(phi)\n",
    "        n_1=n_2\n",
    "    \n",
    "    return phi_lim,phi_list"
   ]
  },
  {
   "cell_type": "markdown",
   "metadata": {},
   "source": [
    "# Gráficas"
   ]
  },
  {
   "cell_type": "code",
   "execution_count": null,
   "metadata": {},
   "outputs": [],
   "source": [
    "def eje_x(list:list):\n",
    "    n_list=[]\n",
    "    for i in range(len(list)):\n",
    "        n_list.append(i+1)\n",
    "    return n_list\n",
    "\n",
    "coor_y=fibonacci()\n",
    "coor_x=eje_x(coor_y)\n",
    "fig,ax=plt.subplots()\n",
    "ax.plot(coor_x,coor_y, label=\"Vigésimo término\")\n",
    "ax.set_title('Sucesión de Fibonacci')\n",
    "leg = ax.legend()\n",
    "plt.show()\n",
    "\n",
    "coor_y,phi=aurea(coor_y)\n",
    "coor_x=eje_x(coor_y)\n",
    "fig,ax=plt.subplots()\n",
    "ax.plot(coor_x,phi, \"--r\", label='phi')\n",
    "ax.plot(coor_x,coor_y, label=\"phi calculado\")\n",
    "ax.set_title('Razón aurea')\n",
    "leg = ax.legend()\n",
    "plt.show()"
   ]
  }
 ],
 "metadata": {
  "kernelspec": {
   "display_name": "Python 3.9.7 64-bit",
   "language": "python",
   "name": "python3"
  },
  "language_info": {
   "codemirror_mode": {
    "name": "ipython",
    "version": 3
   },
   "file_extension": ".py",
   "mimetype": "text/x-python",
   "name": "python",
   "nbconvert_exporter": "python",
   "pygments_lexer": "ipython3",
   "version": "3.9.7"
  },
  "orig_nbformat": 4,
  "vscode": {
   "interpreter": {
    "hash": "11938c6bc6919ae2720b4d5011047913343b08a43b18698fd82dedb0d4417594"
   }
  }
 },
 "nbformat": 4,
 "nbformat_minor": 2
}
