{
 "cells": [
  {
   "cell_type": "markdown",
   "metadata": {},
   "source": [
    "# Librerías"
   ]
  },
  {
   "cell_type": "code",
   "execution_count": null,
   "metadata": {},
   "outputs": [],
   "source": [
    "import numpy as np\n",
    "import matplotlib.pyplot as plt\n",
    "from itertools import permutations\n",
    "from itertools import combinations\n",
    "from itertools import combinations_with_replacement"
   ]
  },
  {
   "cell_type": "markdown",
   "metadata": {},
   "source": [
    "# Primer punto:"
   ]
  },
  {
   "cell_type": "markdown",
   "metadata": {},
   "source": [
    "## Valores del enunciado\n",
    "- - -\n",
    "- Matrices\n",
    "- Estados \n",
    "- Priors"
   ]
  },
  {
   "cell_type": "code",
   "execution_count": null,
   "metadata": {},
   "outputs": [],
   "source": [
    "T = np.array([[0.8,0.2],[0.2,0.8]])\n",
    "E = np.array([[0.5,0.9],[0.5,0.1,]])\n",
    "\n",
    "States = np.array([0,1])\n",
    "Prior =  np.array([0.2,0.8])\n",
    "\n",
    "DictH = {0:'Justa',1:'Sesgada'}\n",
    "Obs= np.array([1,0,0,0,1,0,1,0])"
   ]
  },
  {
   "cell_type": "markdown",
   "metadata": {},
   "source": [
    "## Funciones"
   ]
  },
  {
   "cell_type": "code",
   "execution_count": null,
   "metadata": {},
   "outputs": [],
   "source": [
    "def GetHiddenStates(States, N):\n",
    "    CStates = list(combinations_with_replacement(States,N))\n",
    "    \n",
    "    Permu = []\n",
    "    for it in CStates:\n",
    "        p = list(permutations(it,N))\n",
    "        \n",
    "        for i in p:\n",
    "            if i not in Permu:\n",
    "                Permu.append(i)\n",
    "    \n",
    "    return np.array(Permu)"
   ]
  },
  {
   "cell_type": "code",
   "execution_count": null,
   "metadata": {},
   "outputs": [],
   "source": [
    "HiddenStates = GetHiddenStates(States,8)"
   ]
  },
  {
   "cell_type": "code",
   "execution_count": null,
   "metadata": {},
   "outputs": [],
   "source": [
    "def GetProb(T,E,Obs,State,Prior):\n",
    "    n = len(Obs)\n",
    "    p = 1\n",
    "    p *= Prior[State[0]]\n",
    "\n",
    "    for i in range(n-1):\n",
    "        p *= T[ State[i+1],State[i]]\n",
    "\n",
    "    for i in range(n):\n",
    "        p *= E[Obs[i], State[i]]\n",
    "    \n",
    "    return p"
   ]
  },
  {
   "cell_type": "markdown",
   "metadata": {},
   "source": [
    "## Gráficas y respuestas"
   ]
  },
  {
   "cell_type": "code",
   "execution_count": null,
   "metadata": {},
   "outputs": [],
   "source": [
    "dim= len(HiddenStates)\n",
    "P = np.zeros(dim)\n",
    "\n",
    "for i in range(dim):\n",
    "    P[i]= GetProb(T,E,Obs,HiddenStates[i],Prior)\n",
    "\n",
    "maxP = np.max(P)\n",
    "ii = np.where( P == np.amax(P))\n",
    "secuencia=HiddenStates[ii]\n",
    "\n",
    "secuencia_oculta=[]\n",
    "for i in range(len(secuencia[0])):\n",
    "    secuencia_oculta.append(DictH[secuencia[0,i]])\n",
    "\n",
    "print(\"Las secuencia oculta más probable es: \",secuencia_oculta, \" y su probabilidad es: \",maxP)\n",
    "\n",
    "plt.plot(P)\n",
    "plt.grid()\n",
    "plt.axhline(y=maxP,color=\"r\", label=\"MaxP\")\n",
    "plt.legend(loc='upper right')\n",
    "plt.show()"
   ]
  },
  {
   "cell_type": "code",
   "execution_count": null,
   "metadata": {},
   "outputs": [],
   "source": [
    "ObsStates = GetHiddenStates([0,1],8)\n",
    "\n",
    "NObs = ObsStates.shape[0]\n",
    "PObs = np.zeros(NObs)\n",
    "\n",
    "for j in range(NObs):\n",
    "    dim = HiddenStates.shape[0]\n",
    "    P = np.zeros(dim)\n",
    "    \n",
    "    for i in range(dim):\n",
    "        P[i] = GetProb(T,E,ObsStates[j],HiddenStates[i],Prior)\n",
    "        \n",
    "    PObs[j] = np.sum(P)\n",
    "\n",
    "plt.plot(PObs)\n",
    "plt.grid()\n",
    "plt.axhline(y=maxP,color=\"r\", label=\"MaxP\")\n",
    "plt.legend(loc='upper right')\n",
    "plt.show()"
   ]
  },
  {
   "cell_type": "code",
   "execution_count": null,
   "metadata": {},
   "outputs": [],
   "source": [
    "print(\"La sumatoria de todos los estados observables es igual a: \",np.sum(PObs))"
   ]
  },
  {
   "cell_type": "markdown",
   "metadata": {},
   "source": [
    "#### e)\n",
    "Claramente depende, pues es en base a ella que se logra saber las probabilidades de las secuencias, por lo que si se varía cambiará también las respuestas. Esto es observable dentro de la función `GetProb`. Por lo que una simple forma de comprobarlo es cambiando directamente el a-priori. Observemos el siguiente ejemplo, con $\\pi=[0.4,0.6]$:"
   ]
  },
  {
   "cell_type": "code",
   "execution_count": null,
   "metadata": {},
   "outputs": [],
   "source": [
    "prior = np.array([0.4,0.6])\n",
    "\n",
    "for i in range(dim):\n",
    "    P[i]= GetProb(T,E,Obs,HiddenStates[i],prior)\n",
    "\n",
    "maxP = np.max(P)\n",
    "ii = np.where(P == np.amax(P))\n",
    "print(\"Las secuencia oculta más probable es: \",HiddenStates[ii],\" y su probabilidad es: \",maxP)\n",
    "\n",
    "\n",
    "plt.plot(P)\n",
    "plt.grid()\n",
    "plt.axhline(y=maxP,color=\"r\", label=\"MaxP\")\n",
    "plt.legend(loc='upper right')\n",
    "plt.show()"
   ]
  },
  {
   "cell_type": "code",
   "execution_count": null,
   "metadata": {},
   "outputs": [],
   "source": [
    "ObsStates = GetHiddenStates([0,1],8)\n",
    "NObs = ObsStates.shape[0]\n",
    "\n",
    "PObs = np.zeros(NObs)\n",
    "\n",
    "for j in range(NObs):\n",
    "    \n",
    "    dim = HiddenStates.shape[0]\n",
    "    P = np.zeros(dim)\n",
    "    \n",
    "    for i in range(dim):\n",
    "        P[i] = GetProb(T,E,ObsStates[j],HiddenStates[i],prior)\n",
    "        \n",
    "    PObs[j] = np.sum(P)\n",
    "plt.plot(PObs)\n",
    "plt.grid()\n",
    "plt.axhline(y=maxP,color=\"r\", label=\"MaxP\")\n",
    "plt.legend(loc='upper right')\n",
    "plt.show()"
   ]
  },
  {
   "cell_type": "code",
   "execution_count": null,
   "metadata": {},
   "outputs": [],
   "source": [
    "print(\"La suma de todos los estados observables es con este nuevo prior aun: \",np.sum(PObs))"
   ]
  }
 ],
 "metadata": {
  "language_info": {
   "name": "python"
  },
  "orig_nbformat": 4
 },
 "nbformat": 4,
 "nbformat_minor": 2
}
