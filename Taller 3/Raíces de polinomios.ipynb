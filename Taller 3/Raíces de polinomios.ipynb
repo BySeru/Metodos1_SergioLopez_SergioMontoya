{
 "cells": [
  {
   "cell_type": "markdown",
   "metadata": {},
   "source": [
    "# Librerías"
   ]
  },
  {
   "cell_type": "code",
   "execution_count": 19,
   "metadata": {},
   "outputs": [],
   "source": [
    "import numpy as np\n",
    "import sympy as sp\n",
    "import matplotlib.pyplot as plt"
   ]
  },
  {
   "cell_type": "markdown",
   "metadata": {},
   "source": [
    "# Def. Variables"
   ]
  },
  {
   "cell_type": "code",
   "execution_count": 20,
   "metadata": {},
   "outputs": [],
   "source": [
    "f = lambda x : (3*(x**5))+(5*(x**4))-((x**3))\n",
    "tolera = 0.001\n",
    "x=sp.symbols('x')\n",
    "a = -1\n",
    "b = 1"
   ]
  },
  {
   "cell_type": "markdown",
   "metadata": {},
   "source": [
    "#  Raíces de polinomios"
   ]
  },
  {
   "cell_type": "code",
   "execution_count": 21,
   "metadata": {},
   "outputs": [
    {
     "name": "stdout",
     "output_type": "stream",
     "text": [
      "[]\n",
      "[]\n",
      "[]\n",
      "[0.0009765625]\n",
      "[]\n",
      "[0.001953125]\n",
      "[]\n",
      "[0.00390625]\n",
      "[]\n",
      "[0.0078125]\n",
      "[]\n",
      "[0.015625]\n",
      "[]\n",
      "[0.03125]\n",
      "[]\n",
      "[0.0625]\n",
      "[]\n",
      "[0.125]\n",
      "[]\n",
      "[0.25]\n",
      "[]\n",
      "[0.5]\n",
      "[0.0]\n"
     ]
    }
   ],
   "source": [
    "def  roots(f,a,b):\n",
    "    lst_roots = []\n",
    "    section = b-a\n",
    "    fa = f(a)\n",
    "    fb = f(b)\n",
    "\n",
    "    while not(section<tolera):\n",
    "        xm = (a+b)/2\n",
    "        fxm = f(xm)\n",
    "        change = np.sign(fa)*np.sign(f(xm))\n",
    "        if change < 0:\n",
    "            b = xm\n",
    "            fb = fxm\n",
    "        if change > 0:\n",
    "            b=b\n",
    "            a = xm\n",
    "        section = b-a\n",
    "        if change == 0:\n",
    "            lst_roots.append(xm)\n",
    "            roots(f,a,xm)\n",
    "            roots(f,xm,b)\n",
    "            break\n",
    "    xm = (a+b)/2\n",
    "    root = xm\n",
    "    fxm = f(xm)\n",
    "    print(lst_roots)\n",
    "roots(f,a,b)"
   ]
  }
 ],
 "metadata": {
  "kernelspec": {
   "display_name": "Python 3.9.7 64-bit",
   "language": "python",
   "name": "python3"
  },
  "language_info": {
   "codemirror_mode": {
    "name": "ipython",
    "version": 3
   },
   "file_extension": ".py",
   "mimetype": "text/x-python",
   "name": "python",
   "nbconvert_exporter": "python",
   "pygments_lexer": "ipython3",
   "version": "3.9.7"
  },
  "orig_nbformat": 4,
  "vscode": {
   "interpreter": {
    "hash": "11938c6bc6919ae2720b4d5011047913343b08a43b18698fd82dedb0d4417594"
   }
  }
 },
 "nbformat": 4,
 "nbformat_minor": 2
}
